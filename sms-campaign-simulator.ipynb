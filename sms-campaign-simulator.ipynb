{
  "cells": [
    {
      "cell_type": "code",
      "source": [
        "import pandas as pd\n",
        "import numpy as np\n",
        "import uuid\n",
        "import statsmodels.api as sm"
      ],
      "outputs": [],
      "execution_count": 128,
      "metadata": {
        "jupyter": {
          "source_hidden": false,
          "outputs_hidden": false
        },
        "nteract": {
          "transient": {
            "deleting": false
          }
        },
        "gather": {
          "logged": 1716831671190
        }
      }
    },
    {
      "cell_type": "code",
      "source": [
        "np.random.seed(0)\n",
        "\n",
        "n_rows = 1500\n",
        "\n",
        "category_names = [\n",
        "    'Electronics', 'Home Appliances', 'Clothing and Apparel', 'Footwear',\n",
        "    'Beauty and Personal Care', 'Furniture', 'Toys and Games',\n",
        "    'Sports and Outdoor Equipment', 'Automotive', 'Groceries and Food',\n",
        "    'Books and Stationery', 'Health and Wellness'\n",
        "]\n",
        "category_weights = np.array([0.8, 0.6, 0.95, 0.85, 1.05, 0.75, 0.55, 0.65, 1.15, 0.7, 1.0, 0.9])\n",
        "\n",
        "data = pd.DataFrame({\n",
        "    'has_coupon': np.random.choice([0, 1], size=n_rows, p=[0.5, 0.5]),\n",
        "    'is_holiday_related': np.random.choice([0, 1], size=n_rows, p=[0.7, 0.3])\n",
        "})\n",
        "\n",
        "data['discount_ratio'] = np.random.choice(\n",
        "    [0, 0.2, 0.25, 0.3, 0.35, 0.4], \n",
        "    size=n_rows, \n",
        "    p=[0.3, 0.14, 0.14, 0.14, 0.14, 0.14]\n",
        ")\n",
        "data['discount_amount'] = np.random.choice([0, 5, 10, 15, 20, 25, 30], size=n_rows)\n",
        "\n",
        "# Ensure 'discount_amount' is zero when 'discount_ratio' is non-zero\n",
        "data.loc[data['discount_ratio'] != 0, 'discount_amount'] = 0\n",
        "\n",
        "# Assign one category per row with one-hot encoding\n",
        "categories = np.random.choice(category_names, size=n_rows, p=category_weights/category_weights.sum())\n",
        "category_data = pd.get_dummies(categories)\n",
        "data = pd.concat([data, category_data], axis=1)\n",
        "\n",
        "# Calculate log odds for conversion\n",
        "beta_values = {\n",
        "    'Electronics': 1.2,\n",
        "    'Home Appliances': 1.0,\n",
        "    'Clothing and Apparel': 0.9,\n",
        "    'Footwear': 0.8,\n",
        "    'Beauty and Personal Care': 0.7,\n",
        "    'Furniture': 0.2,\n",
        "    'Toys and Games': 0.2,\n",
        "    'Sports and Outdoor Equipment': 0.2,\n",
        "    'Automotive': 0.2,\n",
        "    'Groceries and Food': 0.2,\n",
        "    'Books and Stationery': 0.2,\n",
        "    'Health and Wellness': 0.2\n",
        "}\n",
        "\n",
        "conversion_log_odds = (\n",
        "    data['has_coupon'] * 0.5 +\n",
        "    data['discount_ratio'] * 1.9 +\n",
        "    data['discount_amount'] * 0.4 +\n",
        "    sum(data[name] * beta_values[name] for name in category_names)\n",
        ")\n",
        "data['Conversion'] = np.random.binomial(1, p=1 / (1 + np.exp(-conversion_log_odds)))\n",
        "\n",
        "uuids = [uuid.uuid4() for _ in range(len(df))]\n",
        "data.insert(0, 'message_id', uuids)\n",
        "\n",
        "data.to_csv('marketing_simulation_with_categories.csv', index=False)\n"
      ],
      "outputs": [],
      "execution_count": null,
      "metadata": {
        "jupyter": {
          "source_hidden": false,
          "outputs_hidden": false
        },
        "nteract": {
          "transient": {
            "deleting": false
          }
        },
        "gather": {
          "logged": 1716831624202
        }
      }
    },
    {
      "cell_type": "code",
      "source": [
        "import statsmodels.api as sm\n",
        "\n",
        "df = pd.read_csv('marketing_simulation_with_categories.csv')\n",
        "\n",
        "X = sm.add_constant(df.drop('Conversion', axis=1))\n",
        "X = X.drop(columns=['message_id', 'Sports and Outdoor Equipment'])\n",
        "\n",
        "y = data['Conversion']\n",
        "model = sm.Logit(y, X)\n",
        "result = model.fit_regularized(method='l1')\n",
        "\n",
        "print(result.summary())\n"
      ],
      "outputs": [
        {
          "output_type": "stream",
          "name": "stdout",
          "text": "Optimization terminated successfully    (Exit mode 0)\n            Current function value: 0.3853952748797677\n            Iterations: 91\n            Function evaluations: 93\n            Gradient evaluations: 91\n                           Logit Regression Results                           \n==============================================================================\nDep. Variable:             Conversion   No. Observations:                 1500\nModel:                          Logit   Df Residuals:                     1484\nMethod:                           MLE   Df Model:                           15\nDate:                Mon, 27 May 2024   Pseudo R-squ.:                  0.1300\nTime:                        18:02:03   Log-Likelihood:                -578.09\nconverged:                       True   LL-Null:                       -664.46\nCovariance Type:            nonrobust   LLR p-value:                 6.919e-29\n============================================================================================\n                               coef    std err          z      P>|z|      [0.025      0.975]\n--------------------------------------------------------------------------------------------\nconst                        0.5012      0.350      1.433      0.152      -0.184       1.187\nhas_coupon                   0.7702      0.153      5.023      0.000       0.470       1.071\nis_holiday_related          -0.1031      0.157     -0.656      0.512      -0.411       0.205\ndiscount_ratio               1.4482      0.733      1.976      0.048       0.012       2.884\ndiscount_amount              0.2906      0.055      5.259      0.000       0.182       0.399\nAutomotive                  -0.2153      0.336     -0.640      0.522      -0.875       0.444\nBeauty and Personal Care     0.3175      0.363      0.875      0.382      -0.394       1.029\nBooks and Stationery         0.0462      0.358      0.129      0.897      -0.655       0.747\nClothing and Apparel         0.4164      0.367      1.133      0.257      -0.304       1.136\nElectronics                  0.5723      0.391      1.464      0.143      -0.194       1.338\nFootwear                     0.4423      0.399      1.109      0.268      -0.340       1.224\nFurniture                   -0.4106      0.354     -1.159      0.246      -1.105       0.284\nGroceries and Food           0.0200      0.379      0.053      0.958      -0.722       0.762\nHealth and Wellness         -0.2049      0.360     -0.569      0.569      -0.910       0.500\nHome Appliances              0.4586      0.417      1.099      0.272      -0.359       1.276\nToys and Games               0.2146      0.444      0.483      0.629      -0.656       1.085\n============================================================================================\n"
        }
      ],
      "execution_count": 131,
      "metadata": {
        "jupyter": {
          "source_hidden": false,
          "outputs_hidden": false
        },
        "nteract": {
          "transient": {
            "deleting": false
          }
        },
        "gather": {
          "logged": 1716832923593
        }
      }
    },
    {
      "cell_type": "code",
      "source": [],
      "outputs": [],
      "execution_count": null,
      "metadata": {
        "jupyter": {
          "source_hidden": false,
          "outputs_hidden": false
        },
        "nteract": {
          "transient": {
            "deleting": false
          }
        }
      }
    }
  ],
  "metadata": {
    "kernelspec": {
      "name": "python38-azureml",
      "language": "python",
      "display_name": "Python 3.8 - AzureML"
    },
    "language_info": {
      "name": "python",
      "version": "3.8.5",
      "mimetype": "text/x-python",
      "codemirror_mode": {
        "name": "ipython",
        "version": 3
      },
      "pygments_lexer": "ipython3",
      "nbconvert_exporter": "python",
      "file_extension": ".py"
    },
    "microsoft": {
      "ms_spell_check": {
        "ms_spell_check_language": "en"
      },
      "host": {
        "AzureML": {
          "notebookHasBeenCompleted": true
        }
      }
    },
    "kernel_info": {
      "name": "python38-azureml"
    },
    "nteract": {
      "version": "nteract-front-end@1.0.0"
    }
  },
  "nbformat": 4,
  "nbformat_minor": 2
}