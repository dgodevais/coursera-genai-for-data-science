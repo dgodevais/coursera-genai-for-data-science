{
  "cells": [
    {
      "cell_type": "markdown",
      "source": [
        "# SMS Campaign Marketing Feature Extraction Notebook\n",
        "\n",
        "#### Suppose you are an AI consultant working with a marketing firm that has asked some hard questions. For example, which attributes of our marketing sms campaigns cause consumers to purchase more or increase \"conversion rates.\"\n",
        "\n",
        "#### In order to address this question, we will need to be able to extract features from our marketing text messages in order to better understand what factors contributes to campaign message conversion performance."
      ],
      "metadata": {
        "nteract": {
          "transient": {
            "deleting": false
          }
        }
      }
    },
    {
      "cell_type": "code",
      "source": [
        "SMS_MESSAGES = [\n",
        "    \"🎉 Happy New Year! Get $20 off on all Samsung Smartphones. Use code NEWYEAR20 at checkout! Limited time offer. 📱\",\n",
        "    \"🏖️ Summer Sale! Save 15 percent on all camping gear from Coleman. Gear up for your adventure now!\",\n",
        "    \"Celebrate the season with ten percent off all T-shirts from Nike! Use code SUMMERTEE. 🌞👕\",\n",
        "    \"🎄Christmas Special! Get up to 30% off all holiday dresses from Zara. Perfect for your festive wardrobe! COUPON: 30save\",\n",
        "    '🎄Christmas Special! Get up to 30% off all holiday dresses. Add \"30save\" at checkout!',\n",
        "    \"Enjoy 25% off FOR YOU ONLY on Philips Air Fryers! Healthy cooking made easy. Use code HEALTHY25. Hurry, offer ends soon!\",\n",
        "    \"Grab the latest Apple MacBook Pro with a 10% discount. Use code APPLE10. Limited stock available! 💻\",\n",
        "    \"🌟 Flash Sale! 20% off on all skincare products from Neutrogena. Pamper yourself today!\",\n",
        "    \"🎃 Halloween Special! Save 15% on all costumes and makeup from our store. No code required. Shop now!\",\n",
        "    \"Upgrade your home with LG Refrigerators. Get a $50 discount with code LGFRIDGE50. Offer valid till month-end.\",\n",
        "    \"🚴‍♂️ Get ready for summer with 20% off on all bicycles from Trek. Pedal into savings!\",\n",
        "    \"Black Friday Bonanza! Save on all Levi's jeans. Limited time only! No code needed. 🛍️👖\",\n",
        "    \"Spruce up your living room with 20% off on Ashley Furniture sofas. Use code ASHLEY20. Limited offer!\",\n",
        "    \"Get the latest Sony 4K TVs with a 15% discount. Use code SONYTV15 at checkout. Offer ends soon! 📺\",\n",
        "    \"Celebrate Mother’s Day with 20% off on all perfumes from Chanel 💐\",\n",
        "    \"🌟 Special Offer! Save 10% on Dyson Vacuum Cleaners. Clean smarter, not harder. Use code DYSON10.\",\n",
        "    \"Gear up for the school season with 20% off all textbooks from Pearson. No code required. 📚\",\n",
        "    \"🎅 Santa’s here early! Save 20% on all toys and games from Hasbro. Shop now!\",\n",
        "    \"Kickstart your fitness journey with 15% off on Fitbit trackers. Use code FITBIT15. Stay healthy! ⌚\",\n",
        "    \"Cozy up with 25% off all beds from Serta. Use code COZY25 at checkout. Limited time offer!\",\n",
        "    \"Back to School! Save on all notebooks and stationery from Moleskine.\",\n",
        "    \"Celebrate Valentine’s Day with 20% off all makeup from Maybelline. 💄❤️\",\n",
        "    \"🚗 Get ready for the road with 10% off all car accessories from Michelin. Use code MICHELIN10.\",\n",
        "    \"Enjoy a $15 giftcard with your Adidas Sneakers purchase! Use code ADIDAS15 at checkout. Limited stock available. 👟\",\n",
        "    \"Fresh groceries at your doorstep! Limited offer.\",\n",
        "    \"🌟 Holiday Savings! Save 20% on all fitness equipment from NordicTrack. No code needed. Get fit today!\"\n",
        "]\n",
        "SMS_MESSAGES[0]"
      ],
      "outputs": [],
      "execution_count": null,
      "metadata": {
        "jupyter": {
          "source_hidden": false,
          "outputs_hidden": false
        },
        "nteract": {
          "transient": {
            "deleting": false
          }
        },
        "gather": {
          "logged": 1716732400921
        }
      }
    },
    {
      "cell_type": "markdown",
      "source": [
        "### We speculate that the following features may have an impact on our conversion rates:\n",
        "\n",
        "#### - The presence of a coupon\n",
        "#### - The size of a discount\n",
        "#### - Whether the message is sent within a holiday shopping period\n",
        "#### - Heterogeneity across different product categories"
      ],
      "metadata": {
        "nteract": {
          "transient": {
            "deleting": false
          }
        }
      }
    },
    {
      "cell_type": "code",
      "source": [
        "# Finding discounts\n",
        "\n",
        "import re\n",
        "\n",
        "def extract_discounts(message):\n",
        "    discounts = []\n",
        "\n",
        "    # Handling fixed dollar discounts\n",
        "    dollar_matches = re.findall(r'\\$\\s*(\\d+)', message)\n",
        "    if dollar_matches:\n",
        "        for dollar in dollar_matches:\n",
        "            discounts.append(int(dollar))\n",
        "\n",
        "    # Handling percentage discounts (numeric and word-based)\n",
        "    percentage_matches = re.findall(r'(\\d+)\\s*percent|\\b(\\w+)\\s+percent', message, re.IGNORECASE)\n",
        "    word_percentages = {\n",
        "        \"ten\": 0.1, \"twenty\": 0.2, \"thirty\": 0.3, \"forty\": 0.4,\n",
        "        \"fifty\": 0.5, \"sixty\": 0.6, \"seventy\": 0.7, \"eighty\": 0.8,\n",
        "        \"ninety\": 0.9, \"hundred\": 1.0, \"fifteen\": 0.15\n",
        "    }\n",
        "\n",
        "    for numeric, word in percentage_matches:\n",
        "        if numeric:\n",
        "            discounts.append(int(numeric) / 100.0)\n",
        "        elif word.lower() in word_percentages:\n",
        "            discounts.append(word_percentages[word.lower()])\n",
        "\n",
        "    return discounts\n",
        "\n",
        "for sms_msg in SMS_MESSAGES[0:3]:\n",
        "    discounts = extract_discounts(sms_msg)\n",
        "    print(f'Message: {sms_msg}\\nDiscounts: {discounts}\\n')"
      ],
      "outputs": [
        {
          "output_type": "stream",
          "name": "stdout",
          "text": "Message: 🎉 Happy New Year! Get $20 off on all Samsung Smartphones. Use code NEWYEAR20 at checkout! Limited time offer. 📱\nDiscounts: [20]\n\nMessage: 🏖️ Summer Sale! Save 15 percent on all camping gear from Coleman. Gear up for your adventure now!\nDiscounts: [0.15]\n\nMessage: Celebrate the season with ten percent off all T-shirts from Nike! Use code SUMMERTEE. 🌞👕\nDiscounts: [0.1]\n\n"
        }
      ],
      "execution_count": 93,
      "metadata": {
        "jupyter": {
          "source_hidden": false,
          "outputs_hidden": false
        },
        "nteract": {
          "transient": {
            "deleting": false
          }
        },
        "gather": {
          "logged": 1716738746245
        }
      }
    },
    {
      "cell_type": "code",
      "source": [
        "# Finding coupons\n",
        "\n",
        "import re\n",
        "\n",
        "def find_coupon(message):\n",
        "    # Enhanced regex pattern to capture different formats of coupon codes\n",
        "    coupon_pattern = re.compile(r'(code\\s*[:]*\\s*[A-Z0-9]{5,}|COUPON\\s*[:]*\\s*[A-Z0-9]{5,})', re.IGNORECASE)\n",
        "    match = coupon_pattern.search(message)\n",
        "    if match:\n",
        "        # Extract the actual code from the matched pattern\n",
        "        return re.sub(r'(code\\s*[:]*\\s*|COUPON\\s*[:]*\\s*)', '', match.group(), flags=re.IGNORECASE).strip()\n",
        "    return None\n",
        "\n",
        "for sms_msg in SMS_MESSAGES[0:4]:\n",
        "    coupons = find_coupon(sms_msg)\n",
        "    print(f'Message: {sms_msg}\\nCoupons: {coupons}\\n')"
      ],
      "outputs": [
        {
          "output_type": "stream",
          "name": "stdout",
          "text": "Message: 🎉 Happy New Year! Get $20 off on all Samsung Smartphones. Use code NEWYEAR20 at checkout! Limited time offer. 📱\nCoupons: NEWYEAR20\n\nMessage: 🏖️ Summer Sale! Save 15 percent on all camping gear from Coleman. Gear up for your adventure now!\nCoupons: None\n\nMessage: Celebrate the season with ten percent off all T-shirts from Nike! Use code SUMMERTEE. 🌞👕\nCoupons: SUMMERTEE\n\nMessage: 🎄Christmas Special! Get up to 30% off all holiday dresses from Zara. Perfect for your festive wardrobe! COUPON: 30save\nCoupons: 30save\n\n"
        }
      ],
      "execution_count": 94,
      "metadata": {
        "jupyter": {
          "source_hidden": false,
          "outputs_hidden": false
        },
        "nteract": {
          "transient": {
            "deleting": false
          }
        },
        "gather": {
          "logged": 1716738777198
        }
      }
    },
    {
      "cell_type": "code",
      "source": [
        "sms_msg = SMS_MESSAGES[4]\n",
        "coupons = find_coupon(sms_msg)\n",
        "print(f'Message: {sms_msg}\\nCoupons: {coupons}\\n')"
      ],
      "outputs": [
        {
          "output_type": "stream",
          "name": "stdout",
          "text": "Message: 🎄Christmas Special! Get up to 30% off all holiday dresses. Add \"30save\" at checkout!\nCoupons: None\n\n"
        }
      ],
      "execution_count": 95,
      "metadata": {
        "jupyter": {
          "source_hidden": false,
          "outputs_hidden": false
        },
        "nteract": {
          "transient": {
            "deleting": false
          }
        },
        "gather": {
          "logged": 1716738798295
        }
      }
    },
    {
      "cell_type": "markdown",
      "source": [
        "### Note that you would require a sophisticated NLP model dedicated to just discounts for this feature extraction process to be robust."
      ],
      "metadata": {
        "nteract": {
          "transient": {
            "deleting": false
          }
        }
      }
    },
    {
      "cell_type": "code",
      "source": [
        "# Finding holidays\n",
        "\n",
        "import datetime\n",
        "\n",
        "def is_near_major_holiday(date, days_near=7):\n",
        "    # Define major holidays (month, day)\n",
        "    major_holidays = [\n",
        "        (1, 1),  # New Year's Day\n",
        "        (7, 4),  # Independence Day\n",
        "        (11, 4),  # Thanksgiving (4th Thursday of November)\n",
        "        (12, 25)  # Christmas Day\n",
        "    ]\n",
        "    \n",
        "    # Convert input date to datetime.date if it's not already\n",
        "    if isinstance(date, datetime.datetime):\n",
        "        date = date.date()\n",
        "    elif not isinstance(date, datetime.date):\n",
        "        raise ValueError(\"Input must be a datetime.date or datetime.datetime object\")\n",
        "    \n",
        "    # Function to calculate the date of Thanksgiving\n",
        "    def get_thanksgiving(year):\n",
        "        # Find the first day of November\n",
        "        nov1 = datetime.date(year, 11, 1)\n",
        "        # Find the first Thursday in November\n",
        "        first_thursday = nov1 + datetime.timedelta(days=(3 - nov1.weekday() + 7) % 7)\n",
        "        # Thanksgiving is the fourth Thursday\n",
        "        return first_thursday + datetime.timedelta(weeks=3)\n",
        "    \n",
        "    # List of holiday dates for the given year\n",
        "    year = date.year\n",
        "    holiday_dates = [\n",
        "        datetime.date(year, month, day) if (month, day) != (11, 4) else get_thanksgiving(year)\n",
        "        for month, day in major_holidays\n",
        "    ]\n",
        "    \n",
        "    # Check if the date is within 'days_near' of any holiday\n",
        "    for holiday in holiday_dates:\n",
        "        if abs((date - holiday).days) <= days_near:\n",
        "            return True\n",
        "    \n",
        "    return False\n",
        "\n",
        "# Example usage\n",
        "print(is_near_major_holiday(datetime.date(2024, 1, 1))) \n",
        "print(is_near_major_holiday(datetime.date(2024, 5, 5))) \n",
        "print(is_near_major_holiday(datetime.date(2024, 7, 4))) \n",
        "print(is_near_major_holiday(datetime.date(2024, 11, 25))) "
      ],
      "outputs": [
        {
          "output_type": "stream",
          "name": "stdout",
          "text": "True\nFalse\nTrue\nTrue\n"
        }
      ],
      "execution_count": 96,
      "metadata": {
        "jupyter": {
          "source_hidden": false,
          "outputs_hidden": false
        },
        "nteract": {
          "transient": {
            "deleting": false
          }
        },
        "gather": {
          "logged": 1716738868245
        }
      }
    },
    {
      "cell_type": "markdown",
      "source": [
        "## Product Categories:\n",
        "#### Automotive\n",
        "#### Beauty and Personal Care\n",
        "#### Books and Stationery\n",
        "#### Clothing and Apparel\n",
        "#### Electronics\n",
        "#### Footwear\n",
        "#### Furniture\n",
        "#### Groceries and Food\n",
        "#### Health and Wellness\n",
        "#### Home Appliances\n",
        "#### Sports and Outdoor Equipment\n",
        "#### Toys and Games"
      ],
      "metadata": {
        "nteract": {
          "transient": {
            "deleting": false
          }
        }
      }
    },
    {
      "cell_type": "code",
      "source": [],
      "outputs": [],
      "execution_count": null,
      "metadata": {
        "jupyter": {
          "source_hidden": false,
          "outputs_hidden": false
        },
        "nteract": {
          "transient": {
            "deleting": false
          }
        }
      }
    },
    {
      "cell_type": "markdown",
      "source": [
        "## Taking advantage of LLM prompt engineering"
      ],
      "metadata": {
        "nteract": {
          "transient": {
            "deleting": false
          }
        }
      }
    },
    {
      "cell_type": "code",
      "source": [
        "from dotenv import dotenv_values\n",
        "from openai import OpenAI\n",
        "\n",
        "secrets = dotenv_values(\".env\")\n",
        "OPEN_AI_KEY = secrets['OPEN_AI_KEY']\n",
        "\n",
        "client = OpenAI(api_key=OPEN_AI_KEY)"
      ],
      "outputs": [],
      "execution_count": null,
      "metadata": {
        "jupyter": {
          "source_hidden": false,
          "outputs_hidden": false
        },
        "nteract": {
          "transient": {
            "deleting": false
          }
        },
        "gather": {
          "logged": 1716734666008
        }
      }
    },
    {
      "cell_type": "markdown",
      "source": [
        "#### Prompt Engineering - Chat Completion API\n",
        "When using the OpenAI API, particularly with chat-based models like ChatGPT, you can provide different types of prompts to guide the behavior and responses of the model. The main types of prompts are \"system\" prompts and \"user\" prompts, and they serve different purposes:\n",
        "\n",
        "#### System Prompt\n",
        "The system prompt sets the behavior and tone for the assistant. It's a way to configure the AI's personality, style, and boundaries for the conversation. It typically provides high-level instructions to the model about how it should behave. This could include details on the assistant's persona, specific rules it should follow, or overarching guidelines for its responses.\n",
        "\n",
        "#### User Prompt\n",
        "The user prompt represents the input or query from the user. It is what the user says or asks, and it directly informs the AI's responses. It contains the specific questions, instructions, or requests that the user inputs. It drives the content and context of the conversation."
      ],
      "metadata": {
        "nteract": {
          "transient": {
            "deleting": false
          }
        }
      }
    },
    {
      "cell_type": "code",
      "source": [
        "import json\n",
        "\n",
        "SEED = 999\n",
        "\n",
        "def make_openai_call(system_prompt, user_prompt, open_ai_model):\n",
        "    import openai\n",
        "    response =  client.chat.completions.create(\n",
        "        model=open_ai_model,\n",
        "        messages=[\n",
        "            {\"role\": \"system\", \"content\": system_prompt},\n",
        "            {\"role\": \"user\", \"content\": user_prompt}\n",
        "        ],\n",
        "        response_format={\"type\": \"json_object\"},\n",
        "        temperature=0,\n",
        "        seed=SEED,\n",
        "    )\n",
        "    content = response.choices[0].message.content\n",
        "    response_json = json.loads(content)\n",
        "    return response_json\n",
        "\n",
        "SYSTEM_PROMPT = \"\"\"\n",
        "You are a helpful and informative assistant that provides concise and accurate answers.\n",
        "\"\"\"\n",
        "\n",
        "USER_PROMPT_TEMPLATE = \"\"\"\n",
        "Review the following marketing text message:\n",
        "\n",
        "{}\n",
        "\n",
        "Return a json object with the following keys:\n",
        "- \"coupon_exists\": boolean\n",
        "- \"discount_ratio\": string\n",
        "- \"discount_amount\": integer\n",
        "- \"product_category\": string\n",
        "\n",
        "If the discount is stated as a percentage, then return discount_ratio between 0 and 1 and\n",
        "return 0 for the discount_amount.\n",
        "\n",
        "If the discount is stated as a dollar amount, then return discount_amount \n",
        "rounded to the nearest integer.\n",
        "\n",
        "For product category choose from one of the following categories:\n",
        "\n",
        "Electronics: Smartphones, laptops, tablets, televisions.\n",
        "Home Appliances: Refrigerators, washing machines, microwaves, vacuum cleaners.\n",
        "Clothing and Apparel: T-shirts, jeans, dresses, jackets.\n",
        "Footwear: Sneakers, sandals, boots, formal shoes.\n",
        "Beauty and Personal Care: Skincare products, makeup, hair care, perfumes.\n",
        "Furniture: Sofas, beds, dining tables, chairs.\n",
        "Toys and Games: Action figures, board games, puzzles, educational toys.\n",
        "Sports and Outdoor Equipment: Bicycles, camping gear, fitness equipment, sportswear.\n",
        "Automotive: Car accessories, tires, maintenance tools, car electronics.\n",
        "Groceries and Food: Fresh produce, packaged foods, beverages, snacks.\n",
        "Books and Stationery: Novels, textbooks, notebooks, writing instruments.\n",
        "Health and Wellness: Vitamins, fitness trackers, health supplements, medical devices.\n",
        "\"\"\"\n",
        "\n",
        "for msg in SMS_MESSAGES[0:5]:\n",
        "    response = make_openai_call(SYSTEM_PROMPT, USER_PROMPT_TEMPLATE.format(msg), \"gpt-4o\")\n",
        "    print(\"------------------\")\n",
        "    print(msg)\n",
        "    print(response)"
      ],
      "outputs": [
        {
          "output_type": "stream",
          "name": "stdout",
          "text": "------------------\n🎉 Happy New Year! Get $20 off on all Samsung Smartphones. Use code NEWYEAR20 at checkout! Limited time offer. 📱\n{'coupon_exists': True, 'discount_ratio': '0', 'discount_amount': 20, 'product_category': 'Electronics'}\n------------------\n🏖️ Summer Sale! Save 15 percent on all camping gear from Coleman. Gear up for your adventure now!\n{'coupon_exists': True, 'discount_ratio': '0.15', 'discount_amount': 0, 'product_category': 'Sports and Outdoor Equipment'}\n------------------\nCelebrate the season with ten percent off all T-shirts from Nike! Use code SUMMERTEE. 🌞👕\n{'coupon_exists': True, 'discount_ratio': '0.10', 'discount_amount': 0, 'product_category': 'Clothing and Apparel'}\n------------------\n🎄Christmas Special! Get up to 30% off all holiday dresses from Zara. Perfect for your festive wardrobe! COUPON: 30save\n{'coupon_exists': True, 'discount_ratio': '0.30', 'discount_amount': 0, 'product_category': 'Clothing and Apparel'}\n------------------\n🎄Christmas Special! Get up to 30% off all holiday dresses. Add \"30save\" at checkout!\n{'coupon_exists': True, 'discount_ratio': '0.30', 'discount_amount': 0, 'product_category': 'Clothing and Apparel'}\n"
        }
      ],
      "execution_count": 97,
      "metadata": {
        "jupyter": {
          "source_hidden": false,
          "outputs_hidden": false
        },
        "nteract": {
          "transient": {
            "deleting": false
          }
        },
        "gather": {
          "logged": 1716739080224
        }
      }
    },
    {
      "cell_type": "code",
      "source": [],
      "outputs": [],
      "execution_count": null,
      "metadata": {
        "jupyter": {
          "source_hidden": false,
          "outputs_hidden": false
        },
        "nteract": {
          "transient": {
            "deleting": false
          }
        }
      }
    }
  ],
  "metadata": {
    "kernelspec": {
      "name": "python38-azureml",
      "language": "python",
      "display_name": "Python 3.8 - AzureML"
    },
    "language_info": {
      "name": "python",
      "version": "3.8.5",
      "mimetype": "text/x-python",
      "codemirror_mode": {
        "name": "ipython",
        "version": 3
      },
      "pygments_lexer": "ipython3",
      "nbconvert_exporter": "python",
      "file_extension": ".py"
    },
    "microsoft": {
      "ms_spell_check": {
        "ms_spell_check_language": "en"
      },
      "host": {
        "AzureML": {
          "notebookHasBeenCompleted": true
        }
      }
    },
    "kernel_info": {
      "name": "python38-azureml"
    },
    "nteract": {
      "version": "nteract-front-end@1.0.0"
    }
  },
  "nbformat": 4,
  "nbformat_minor": 2
}